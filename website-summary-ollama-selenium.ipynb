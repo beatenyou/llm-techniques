{
 "cells": [
  {
   "cell_type": "markdown",
   "id": "85cd58e8-b153-4170-885a-a4cb851a97b9",
   "metadata": {},
   "source": [
    "## Website Summarizer\n",
    "This Jupyter Notebook script creates an interactive web interface that allows users to summarize website content using local language models through Ollama. It combines Selenium for JavaScript-enabled web scraping with BeautifulSoup for HTML parsing, then sends the extracted content to a user-selected language model which generates a concise summary of the webpage. The notebook provides a user-friendly experience with interactive widgets for model selection and URL input, making it easy to analyze and summarize web content without leaving the notebook environment.\n",
    "\n",
    "## Requirements\n",
    "* Python 3.11 or higher       - ```scripting combines the pieces```\n",
    "* Chrome Browser              - ```uses headless browser```\n",
    "* pip install selenium        - ```browser automation and web scraping```\n",
    "* pip install webdriver-manager      - ```handles browser driver installation and compatibility```\n",
    "* pip install beautifulsoup4         - ```parsing and extracting HTML content```\n",
    "* pip install ollama-python          - ```local language model server; scipt works well with llama3.2:3b; make sure your serving ollama with at least one model installed```\n",
    "* sockets                      - ```test ollama server```\n",
    "* re                           - ```regualar expressions mapping```\n",
    "* time                         - ```time access and conversions```\n",
    "* sys                          - ```access to system variables```\n",
    "* ipywidgets                   - ```interactive UI elements in Jupyter Notebook```\n",
    "### 1. Import Libraries\n",
    "\n",
    "Imports all necessary Python libraries including Selenium for web automation, BeautifulSoup for HTML parsing, and the Ollama client for interacting with local language models."
   ]
  },
  {
   "cell_type": "code",
   "execution_count": 1,
   "id": "27c2fba3-b495-4dd2-9af1-376006f6e357",
   "metadata": {},
   "outputs": [],
   "source": [
    "import socket\n",
    "from selenium import webdriver\n",
    "from selenium.webdriver.chrome.options import Options\n",
    "from selenium.webdriver.chrome.service import Service\n",
    "from selenium.webdriver.support.ui import WebDriverWait\n",
    "from selenium.webdriver.support import expected_conditions as EC\n",
    "from selenium.webdriver.common.by import By\n",
    "from webdriver_manager.chrome import ChromeDriverManager\n",
    "from IPython.display import display, Markdown, HTML\n",
    "from bs4 import BeautifulSoup\n",
    "import ollama\n",
    "import time\n",
    "import sys\n",
    "import re\n",
    "from typing import Optional, List, Dict, Any, Union"
   ]
  },
  {
   "cell_type": "markdown",
   "id": "f3e107b7-541b-469f-86b3-841bc7f5d1db",
   "metadata": {},
   "source": [
    "### 2. Define Constants and Helper Functions\n",
    "Defines the default model constant and helper functions for checking if the Ollama server is running and formatting file sizes in a human-readable format."
   ]
  },
  {
   "cell_type": "code",
   "execution_count": 2,
   "id": "8724ff6d-bcd0-4e84-acb1-4887b7769014",
   "metadata": {},
   "outputs": [],
   "source": [
    "# Default model if selection fails\n",
    "DEFAULT_MODEL = \"llama3.2:3b\"\n",
    "\n",
    "def is_ollama_server_running(host='localhost', port=11434):\n",
    "    \"\"\"Check if Ollama server is running by attempting to connect to its port\"\"\"\n",
    "    s = socket.socket(socket.AF_INET, socket.SOCK_STREAM)\n",
    "    try:\n",
    "        s.connect((host, port))\n",
    "        s.close()\n",
    "        return True\n",
    "    except ConnectionRefusedError:\n",
    "        return False\n",
    "\n",
    "def check_ollama_server():\n",
    "    \"\"\"Check if Ollama server is running and exit if not\"\"\"\n",
    "    if not is_ollama_server_running():\n",
    "        display(HTML(\"<div style='color: red; font-weight: bold;'>Error: Ollama server is not running.</div>\"))\n",
    "        display(HTML(\"<div>Please start the Ollama server with 'ollama serve' and try again.</div>\"))\n",
    "        return False\n",
    "    return True\n",
    "\n",
    "def format_size(size_in_bytes):\n",
    "    \"\"\"Format byte size to human-readable format\"\"\"\n",
    "    if size_in_bytes > 1_000_000_000:\n",
    "        return f\"{size_in_bytes / 1_000_000_000:.2f} GB\"\n",
    "    elif size_in_bytes > 1_000_000:\n",
    "        return f\"{size_in_bytes / 1_000_000:.2f} MB\"\n",
    "    elif size_in_bytes > 1_000:\n",
    "        return f\"{size_in_bytes / 1_000:.2f} KB\"\n",
    "    else:\n",
    "        return f\"{size_in_bytes} bytes\"\n"
   ]
  },
  {
   "cell_type": "markdown",
   "id": "0f47a91a-b9ea-402e-b00a-93408a444583",
   "metadata": {},
   "source": [
    "### 3. Model Selection Functions\n",
    "These functions query the Ollama API to retrieve available models and display them in a formatted HTML table within the notebook for easy selection."
   ]
  },
  {
   "cell_type": "code",
   "execution_count": 3,
   "id": "784d2178-ea3e-42ae-8f19-1809fa1358b3",
   "metadata": {},
   "outputs": [],
   "source": [
    "def get_available_models():\n",
    "    \"\"\"Query Ollama for available models\"\"\"\n",
    "    try:\n",
    "        models_response = ollama.list()\n",
    "        \n",
    "        # Check different possible response formats\n",
    "        if 'models' in models_response:\n",
    "            return models_response['models']\n",
    "        elif isinstance(models_response, list):\n",
    "            return models_response\n",
    "        elif isinstance(models_response, dict):\n",
    "            # If it's a dict but doesn't have 'models' key, return all items\n",
    "            return [models_response]\n",
    "        else:\n",
    "            display(HTML(\"<div style='color: orange;'>Warning: Unexpected response format from Ollama. Using default model.</div>\"))\n",
    "            return []\n",
    "    except Exception as e:\n",
    "        display(HTML(f\"<div style='color: red;'>Error querying available models: {e}</div>\"))\n",
    "        display(HTML(\"<div>Using default model instead.</div>\"))\n",
    "        return []\n",
    "\n",
    "def display_models(models):\n",
    "    \"\"\"Display available models in a formatted table\"\"\"\n",
    "    if not models:\n",
    "        display(HTML(f\"<div>No models found. Using default model: {DEFAULT_MODEL}</div>\"))\n",
    "        return\n",
    "    \n",
    "    html = \"<h3>Available Models</h3>\"\n",
    "    html += \"<table style='width:100%; border-collapse: collapse;'>\"\n",
    "    html += \"<tr style='background-color: #f2f2f2;'><th style='border: 1px solid #ddd; padding: 8px; text-align: left;'>Number</th><th style='border: 1px solid #ddd; padding: 8px; text-align: left;'>Model Name</th><th style='border: 1px solid #ddd; padding: 8px; text-align: left;'>Size</th><th style='border: 1px solid #ddd; padding: 8px; text-align: left;'>Modified</th></tr>\"\n",
    "    \n",
    "    for i, model in enumerate(models, 1):\n",
    "        # Try different possible key names for model information\n",
    "        model_name = model.get('name', model.get('model', 'Unknown'))\n",
    "        \n",
    "        # Handle different size formats\n",
    "        model_size = model.get('size', model.get('digest', 'Unknown size'))\n",
    "        if isinstance(model_size, int):\n",
    "            model_size = format_size(model_size)\n",
    "        \n",
    "        # Try to get modified time\n",
    "        modified_time = model.get('modified_at', model.get('modified', ''))\n",
    "        \n",
    "        html += f\"<tr><td style='border: 1px solid #ddd; padding: 8px;'>{i}</td><td style='border: 1px solid #ddd; padding: 8px;'>{model_name}</td><td style='border: 1px solid #ddd; padding: 8px;'>{model_size}</td><td style='border: 1px solid #ddd; padding: 8px;'>{modified_time}</td></tr>\"\n",
    "    \n",
    "    html += \"</table>\"\n",
    "    display(HTML(html))\n",
    "    return models\n"
   ]
  },
  {
   "cell_type": "markdown",
   "id": "ead781b0-8cdb-4d72-9eda-15e04b9a6d2d",
   "metadata": {},
   "source": [
    "### 4. URL Processing Functions\n",
    "Contains the function that ensures URLs are properly formatted with the correct protocol prefix (https://) before processing."
   ]
  },
  {
   "cell_type": "code",
   "execution_count": 4,
   "id": "fb024db8-36d9-4b71-b7c5-a56137ac2d30",
   "metadata": {},
   "outputs": [],
   "source": [
    "def format_url(url):\n",
    "    \"\"\"Format URL to ensure it has the proper protocol prefix\"\"\"\n",
    "    # Remove any leading/trailing whitespace\n",
    "    url = url.strip()\n",
    "    \n",
    "    # Check if the URL already has a protocol (http:// or https://)\n",
    "    if not re.match(r'^https?://', url):\n",
    "        # Add https:// prefix if not present\n",
    "        url = \"https://\" + url\n",
    "    \n",
    "    return url\n"
   ]
  },
  {
   "cell_type": "markdown",
   "id": "098b0e6f-5295-4b99-a320-b75e65c200a2",
   "metadata": {},
   "source": [
    "### 5. Web Scraping Class\n",
    "The ScrapeWebsite class handles the entire web scraping process using Selenium and BeautifulSoup, configuring a headless Chrome browser with optimized settings and extracting clean text content from web pages."
   ]
  },
  {
   "cell_type": "code",
   "execution_count": 5,
   "id": "f267b80e-7909-4453-aded-b3b68401667b",
   "metadata": {},
   "outputs": [],
   "source": [
    "class ScrapeWebsite:\n",
    "    def __init__(self, url):\n",
    "        \"\"\"\n",
    "        Create this Website object from the given URL using Selenium + BeautifulSoup\n",
    "        Supports JavaScript-heavy and normal websites uniformly.\n",
    "        \"\"\"\n",
    "        self.url = url\n",
    "        self.title = \"No title found\"\n",
    "        self.text = \"\"\n",
    "        \n",
    "        display(HTML(f\"<div>Fetching content from {url}...</div>\"))\n",
    "        \n",
    "        # Configure headless Chrome with optimized settings\n",
    "        options = Options()\n",
    "        options.add_argument('--headless')\n",
    "        options.add_argument('--no-sandbox')\n",
    "        options.add_argument('--disable-dev-shm-usage')\n",
    "        options.add_argument('--disable-extensions')\n",
    "        options.add_argument('--disable-gpu')\n",
    "        options.add_argument('--enable-unsafe-swiftshader')  # Handle WebGL issues\n",
    "        \n",
    "        # Use webdriver-manager to manage ChromeDriver\n",
    "        service = Service(ChromeDriverManager().install())\n",
    "        \n",
    "        try:\n",
    "            # Initialize the Chrome WebDriver with the service and options\n",
    "            driver = webdriver.Chrome(service=service, options=options)\n",
    "            \n",
    "            # Start Selenium WebDriver\n",
    "            driver.get(url)\n",
    "            \n",
    "            # Wait for page to load using explicit wait\n",
    "            WebDriverWait(driver, 10).until(\n",
    "                EC.presence_of_element_located((By.TAG_NAME, \"body\"))\n",
    "            )\n",
    "            \n",
    "            # Fetch the page source after JS execution\n",
    "            page_source = driver.page_source\n",
    "            driver.quit()\n",
    "            \n",
    "            # Parse the HTML content with BeautifulSoup\n",
    "            soup = BeautifulSoup(page_source, 'html.parser')\n",
    "            \n",
    "            # Extract title\n",
    "            self.title = soup.title.string if soup.title else \"No title found\"\n",
    "            \n",
    "            # Remove unnecessary elements\n",
    "            for tag in ('script', 'style', 'img', 'input', 'iframe', 'noscript'):\n",
    "                for element in soup.find_all(tag):\n",
    "                    element.decompose()\n",
    "            \n",
    "            # Extract the main text\n",
    "            self.text = soup.body.get_text(separator=\"\\n\", strip=True) if soup.body else \"\"\n",
    "            \n",
    "            display(HTML(f\"<div style='color: green;'>Successfully fetched content from {url}</div>\"))\n",
    "            display(HTML(f\"<div><strong>Title:</strong> {self.title}</div>\"))\n",
    "            \n",
    "        except Exception as e:\n",
    "            display(HTML(f\"<div style='color: red;'>Error scraping website: {e}</div>\"))\n"
   ]
  },
  {
   "cell_type": "markdown",
   "id": "627807e0-c186-46c3-ab17-959ff4f19472",
   "metadata": {},
   "source": [
    "### 6. Summarization Functions\n",
    "These functions prepare the message format for the Ollama API and handle the process of sending the scraped content to the selected language model for summarization."
   ]
  },
  {
   "cell_type": "code",
   "execution_count": 6,
   "id": "73cd1855-bc39-4798-80d3-e009ff902709",
   "metadata": {},
   "outputs": [],
   "source": [
    "def messages_for(website):\n",
    "    \"\"\"\n",
    "    Create a messages array for the chat model based on website content\n",
    "    \"\"\"\n",
    "    return [\n",
    "        {\"role\": \"system\", \"content\": \"You are a helpful assistant that summarizes web content.\"},\n",
    "        {\"role\": \"user\", \"content\": f\"Summarize the following website content titled '{website.title}':\\n\\n{website.text[:5000]}\"}\n",
    "    ]\n",
    "\n",
    "def summarize(url, model):\n",
    "    \"\"\"Scrape website and generate summary using Ollama\"\"\"\n",
    "    website = ScrapeWebsite(url)\n",
    "    \n",
    "    if not website.text:\n",
    "        return \"Could not extract content from the website.\"\n",
    "    \n",
    "    display(HTML(\"<div>Generating summary...</div>\"))\n",
    "    \n",
    "    messages = messages_for(website)\n",
    "    response = ollama.chat(model=model, messages=messages)\n",
    "    return response['message']['content']\n"
   ]
  },
  {
   "cell_type": "markdown",
   "id": "b9b50a35-9597-4219-93d1-fe9bed464526",
   "metadata": {},
   "source": [
    "### 7. Check Ollama Server\n",
    "Verifies that the Ollama server is running and displays an appropriate message if it's not available."
   ]
  },
  {
   "cell_type": "code",
   "execution_count": 7,
   "id": "952566f8-91a4-417a-a6f5-d19feb1eea21",
   "metadata": {},
   "outputs": [],
   "source": [
    "# Check if Ollama server is running\n",
    "server_running = check_ollama_server()\n",
    "if not server_running:\n",
    "    display(HTML(\"<div style='color: red;'>Please restart the notebook after starting the Ollama server.</div>\"))\n"
   ]
  },
  {
   "cell_type": "markdown",
   "id": "8c74e940-47d9-4cd0-945e-7b0e5ee21132",
   "metadata": {},
   "source": [
    "### 8. Display and Select Models\n",
    "Creates an interactive dropdown widget populated with available models from the Ollama server, allowing users to easily select which model to use."
   ]
  },
  {
   "cell_type": "code",
   "execution_count": 19,
   "id": "7a0a483b-2e59-4565-8666-69e2dae1d4bd",
   "metadata": {},
   "outputs": [
    {
     "data": {
      "text/html": [
       "<h3>Available Models</h3><table style='width:100%; border-collapse: collapse;'><tr style='background-color: #f2f2f2;'><th style='border: 1px solid #ddd; padding: 8px; text-align: left;'>Number</th><th style='border: 1px solid #ddd; padding: 8px; text-align: left;'>Model Name</th><th style='border: 1px solid #ddd; padding: 8px; text-align: left;'>Size</th><th style='border: 1px solid #ddd; padding: 8px; text-align: left;'>Modified</th></tr><tr><td style='border: 1px solid #ddd; padding: 8px;'>1</td><td style='border: 1px solid #ddd; padding: 8px;'>deepseek-r1:1.5b</td><td style='border: 1px solid #ddd; padding: 8px;'>1.12 GB</td><td style='border: 1px solid #ddd; padding: 8px;'>2025-05-18 18:34:47.314876-05:00</td></tr><tr><td style='border: 1px solid #ddd; padding: 8px;'>2</td><td style='border: 1px solid #ddd; padding: 8px;'>llama3.2:3b</td><td style='border: 1px solid #ddd; padding: 8px;'>2.02 GB</td><td style='border: 1px solid #ddd; padding: 8px;'>2025-05-18 16:11:56.987203-05:00</td></tr><tr><td style='border: 1px solid #ddd; padding: 8px;'>3</td><td style='border: 1px solid #ddd; padding: 8px;'>mistral-small3.1:latest</td><td style='border: 1px solid #ddd; padding: 8px;'>15.49 GB</td><td style='border: 1px solid #ddd; padding: 8px;'>2025-05-10 20:33:23.221494-05:00</td></tr></table>"
      ],
      "text/plain": [
       "<IPython.core.display.HTML object>"
      ]
     },
     "metadata": {},
     "output_type": "display_data"
    },
    {
     "data": {
      "application/vnd.jupyter.widget-view+json": {
       "model_id": "a85729395fda4c7098ee9be422094ec3",
       "version_major": 2,
       "version_minor": 0
      },
      "text/plain": [
       "Dropdown(description='Select Model:', options=(('deepseek-r1:1.5b', 'deepseek-r1:1.5b'), ('llama3.2:3b', 'llam…"
      ]
     },
     "metadata": {},
     "output_type": "display_data"
    }
   ],
   "source": [
    "# Get and display available models\n",
    "models = get_available_models()\n",
    "displayed_models = display_models(models)\n",
    "\n",
    "# Create a dropdown for model selection\n",
    "from ipywidgets import Dropdown, VBox, Label, Button, Text, Output\n",
    "import ipywidgets as widgets\n",
    "\n",
    "model_options = [(model.get('name', model.get('model', 'Unknown')), model.get('name', model.get('model', DEFAULT_MODEL))) \n",
    "                 for model in models] if models else [(DEFAULT_MODEL, DEFAULT_MODEL)]\n",
    "\n",
    "model_dropdown = Dropdown(\n",
    "    options=model_options,\n",
    "    description='Select Model:',\n",
    "    disabled=False,\n",
    "    style={'description_width': 'initial'}\n",
    ")\n",
    "\n",
    "display(model_dropdown)\n"
   ]
  },
  {
   "cell_type": "markdown",
   "id": "0bbec657-2921-4ac5-bc2f-6f45d5ce0491",
   "metadata": {},
   "source": [
    "### 9. URL Output\n",
    "Creates a text input widget where users can enter the URL of the website they want to summarize."
   ]
  },
  {
   "cell_type": "code",
   "execution_count": 9,
   "id": "f5cc54dc-bfa9-48e1-a97f-2846377d390d",
   "metadata": {},
   "outputs": [
    {
     "data": {
      "application/vnd.jupyter.widget-view+json": {
       "model_id": "a2ee9a32adb04ef9954309cd39e31392",
       "version_major": 2,
       "version_minor": 0
      },
      "text/plain": [
       "Text(value='', description='Website:', placeholder='Enter website URL (e.g., msn.com)', style=TextStyle(descri…"
      ]
     },
     "metadata": {},
     "output_type": "display_data"
    }
   ],
   "source": [
    "# Create URL input widget\n",
    "url_input = Text(\n",
    "    value='',\n",
    "    placeholder='Enter website URL (e.g., msn.com)',\n",
    "    description='Website:',\n",
    "    disabled=False,\n",
    "    style={'description_width': 'initial'}\n",
    ")\n",
    "\n",
    "display(url_input)\n"
   ]
  },
  {
   "cell_type": "markdown",
   "id": "f110c3c2-a339-4023-907c-06084472a968",
   "metadata": {},
   "source": [
    "### 10. Run Button and Output\n",
    "Creates the \"Fetch and Summarize\" button that triggers the entire process and displays the results in a dedicated output area below the button."
   ]
  },
  {
   "cell_type": "code",
   "execution_count": 10,
   "id": "ff052e5c-61a2-4363-85f6-aed964f299dd",
   "metadata": {},
   "outputs": [
    {
     "data": {
      "application/vnd.jupyter.widget-view+json": {
       "model_id": "64e6ef9164854c2782c2fbe20580d9b2",
       "version_major": 2,
       "version_minor": 0
      },
      "text/plain": [
       "Button(description='Fetch and Summarize', style=ButtonStyle())"
      ]
     },
     "metadata": {},
     "output_type": "display_data"
    },
    {
     "data": {
      "application/vnd.jupyter.widget-view+json": {
       "model_id": "3dc7a38355ee44a8a2b3bd67df587287",
       "version_major": 2,
       "version_minor": 0
      },
      "text/plain": [
       "Output()"
      ]
     },
     "metadata": {},
     "output_type": "display_data"
    }
   ],
   "source": [
    "# Create output area and run button\n",
    "output = Output()\n",
    "run_button = Button(description=\"Fetch and Summarize\")\n",
    "\n",
    "def on_run_button_clicked(b):\n",
    "    with output:\n",
    "        output.clear_output()\n",
    "        \n",
    "        # Format URL\n",
    "        url = format_url(url_input.value)\n",
    "        if not url_input.value:\n",
    "            display(HTML(\"<div style='color: red;'>Please enter a valid website URL.</div>\"))\n",
    "            return\n",
    "        \n",
    "        model = model_dropdown.value\n",
    "        display(HTML(f\"<div>Fetching and summarizing <b>{url}</b> using model: <b>{model}</b></div>\"))\n",
    "        \n",
    "        # Summarize the website\n",
    "        summary = summarize(url, model)\n",
    "        \n",
    "        # Display the summary\n",
    "        display(Markdown(\"## Summary\"))\n",
    "        display(Markdown(summary))\n",
    "\n",
    "run_button.on_click(on_run_button_clicked)\n",
    "\n",
    "display(run_button)\n",
    "display(output)\n"
   ]
  },
  {
   "cell_type": "code",
   "execution_count": null,
   "id": "f2c81a5c-253f-4f2b-a0ce-133333e3cf04",
   "metadata": {},
   "outputs": [],
   "source": []
  }
 ],
 "metadata": {
  "kernelspec": {
   "display_name": "Python 3 (ipykernel)",
   "language": "python",
   "name": "python3"
  },
  "language_info": {
   "codemirror_mode": {
    "name": "ipython",
    "version": 3
   },
   "file_extension": ".py",
   "mimetype": "text/x-python",
   "name": "python",
   "nbconvert_exporter": "python",
   "pygments_lexer": "ipython3",
   "version": "3.11.12"
  }
 },
 "nbformat": 4,
 "nbformat_minor": 5
}
